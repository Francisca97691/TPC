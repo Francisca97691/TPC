{
 "cells": [
  {
   "cell_type": "markdown",
   "metadata": {},
   "source": [
    "# Aula Teórica 5: Persistência da Informação"
   ]
  },
  {
   "cell_type": "markdown",
   "metadata": {},
   "source": [
    "## Armazenamento em memória secundária: ficheiros"
   ]
  },
  {
   "cell_type": "markdown",
   "metadata": {},
   "source": [
    "### Abertura: open(nome, modo)"
   ]
  },
  {
   "cell_type": "markdown",
   "metadata": {},
   "source": [
    "Modos de abertura de um ficheiro:\n",
    "* \"r\" - Read - Valor por omissão. Abre o ficheiro para leitura, devolve error se o ficheiro não existir;\n",
    "* \"a\" - Append - Abre o ficheiro para acrescentar, cria o ficheiro se este não existir;\n",
    "* \"w\" - Write - Abre o ficheiro para escrever, cria o ficheiro se este não existir, apaga o conteúdo se este existir;\n",
    "* \"x\" - Create - Cria o ficheiro, devolve error se o ficheiro já existir.\n",
    "\n",
    "Parâmetro adicional ao modo:\n",
    "* \"t\" - Text - Valor por omissão. Ficheiro textual;\n",
    "* \"b\" - Binary - Ficheiro binário, por exemplo, imagens."
   ]
  },
  {
   "cell_type": "code",
   "execution_count": 1,
   "metadata": {},
   "outputs": [],
   "source": [
    "f = open(\"bdArtigos.json\", \"rt\")\n",
    "f2 = open(\"bdArtigos.json\", \"r\")\n",
    "f3 = open(\"bdArtigos.json\")"
   ]
  },
  {
   "cell_type": "markdown",
   "metadata": {},
   "source": [
    "### Leitura do conteúdo"
   ]
  },
  {
   "cell_type": "code",
   "execution_count": null,
   "metadata": {},
   "outputs": [],
   "source": [
    "f4 = open(\"demo.txt\")\n",
    "print(f4.read())"
   ]
  },
  {
   "cell_type": "markdown",
   "metadata": {},
   "source": [
    "Uma linha de cada vez, iterando pelas linhas..."
   ]
  },
  {
   "cell_type": "code",
   "execution_count": null,
   "metadata": {},
   "outputs": [],
   "source": [
    "f4 = open(\"demo.txt\")\n",
    "print(f4.readline())\n",
    "print(f4.readline())"
   ]
  },
  {
   "cell_type": "code",
   "execution_count": null,
   "metadata": {},
   "outputs": [],
   "source": [
    "f4 = open(\"demo.txt\")\n",
    "i=1\n",
    "for linha in f4:\n",
    "    print(str(i) + \" :: \" + linha)\n",
    "    i = i+1"
   ]
  },
  {
   "cell_type": "markdown",
   "metadata": {},
   "source": [
    "### Fechar um ficheiro: devemos fazê-lo no fim..."
   ]
  },
  {
   "cell_type": "code",
   "execution_count": null,
   "metadata": {},
   "outputs": [],
   "source": [
    "f4 = open(\"demo.txt\")\n",
    "i=1\n",
    "for linha in f4:\n",
    "    print(str(i) + \" :: \" + linha)\n",
    "    i = i+1\n",
    "f4.close()"
   ]
  },
  {
   "cell_type": "markdown",
   "metadata": {},
   "source": [
    "### Escrever num ficheiro"
   ]
  },
  {
   "cell_type": "code",
   "execution_count": null,
   "metadata": {},
   "outputs": [],
   "source": [
    "f5 = open(\"demo.txt\", \"a\")\n",
    "f5.write(\"Agora o ficheiro tem mais conteúdo!\")\n",
    "f5.close()\n",
    "\n",
    "f5 = open(\"demo.txt\", \"r\")\n",
    "print(f5.read())"
   ]
  },
  {
   "cell_type": "markdown",
   "metadata": {},
   "source": [
    "## O nosso problema: a BD bibliográfica - Como guardar em ficheiro?"
   ]
  },
  {
   "cell_type": "code",
   "execution_count": 7,
   "metadata": {},
   "outputs": [],
   "source": [
    "arts = [{'chaveCit': 'RHA2008', 'titulo': 'Álgebra Documental', \n",
    "        'autores': [('jcr', 'José Carlos Ramalho'), ('prh', 'Pedro Rangel Henriques'), ('jj', 'José João Almeida')], \n",
    "        'ano': 2008, 'local': 'Twente - Holanda'}, \n",
    "    {'chaveCit': 'RHA1998', 'titulo': 'Utilização do email pedagogicamente', \n",
    "        'autores': [('jcr', 'José Carlos Ramalho'), ('prh', 'Pedro Rangel Henriques'), ('jj', \n",
    "        'José João Almeida')], 'ano': 1999, 'local': 'Universidade do Minho'}]"
   ]
  },
  {
   "cell_type": "markdown",
   "metadata": {},
   "source": [
    "### Hipótese 1: no \"meu\" ficheiro de texto\n",
    "__Que forma irão ter os registos?__"
   ]
  },
  {
   "cell_type": "markdown",
   "metadata": {},
   "source": [
    "`chaveCit::titulo::autor1#autor2#...#autorn::ano::local`\n",
    "\n",
    "Aplicado ao nosso exemplo:\n",
    "\n",
    "`RHA2008::Álgebra Documental::jcr,José Carlos Ramalho#prh,Pedro Rangel Henriques#jj,José João Almeida::2008::Twente - Holanda\n",
    "\n",
    "RHA1998::Utilização do email pedagogicamente::jcr,José Carlos Ramalho#prh,Pedro Rangel Henriques#jj,José João Almeida::1999::Universidade do Minho`"
   ]
  },
  {
   "cell_type": "markdown",
   "metadata": {},
   "source": []
  },
  {
   "cell_type": "code",
   "execution_count": 18,
   "metadata": {},
   "outputs": [
    {
     "name": "stdout",
     "output_type": "stream",
     "text": [
      "Foram guardados 2 registos.\n"
     ]
    }
   ],
   "source": [
    "# Guardar a BD no ficheiro\n",
    "def guardarBD(bd, fnome):\n",
    "    #... a fazer na aula com os alunos\n",
    "\n",
    "guardarBD(arts, \"bdArtigos.txt\")\n",
    "print(\"Foram guardados \" + str(len(arts)) + \" registos.\")"
   ]
  },
  {
   "cell_type": "code",
   "execution_count": null,
   "metadata": {},
   "outputs": [],
   "source": [
    "# Carregar a BD dum ficheiro\n",
    "def extraiAutores(linha):\n",
    "    # ...a fazer na aula com os alunos\n",
    "    \n",
    "def carregarBD(fnome):\n",
    "    # ...a fazer na aula com os alunos\n",
    "\n",
    "teste = carregarBD(\"bdArtigos.txt\")\n",
    "print(teste)"
   ]
  },
  {
   "cell_type": "markdown",
   "metadata": {},
   "source": [
    "### Hipótese 2: em JSON\n",
    "\n",
    "(fazer uma visita guiada a [json.org](https://www.json.org/json-en.html))"
   ]
  },
  {
   "cell_type": "markdown",
   "metadata": {},
   "source": []
  },
  {
   "cell_type": "code",
   "execution_count": 21,
   "metadata": {},
   "outputs": [],
   "source": [
    "# Guardar a BD em JSON\n",
    "import json\n",
    "\n",
    "def guardarBD(bd, fnome):\n",
    "    with open(fnome, 'w', encoding='utf-8') as f:\n",
    "        json.dump(bd, f, ensure_ascii=False, indent=4)\n",
    "\n",
    "guardarBD(arts, \"bdArtigos.json\")"
   ]
  },
  {
   "cell_type": "code",
   "execution_count": 23,
   "metadata": {},
   "outputs": [
    {
     "name": "stdout",
     "output_type": "stream",
     "text": [
      "[{'chaveCit': 'RHA2008', 'titulo': 'Álgebra Documental', 'autores': [['jcr', 'José Carlos Ramalho'], ['prh', 'Pedro Rangel Henriques'], ['jj', 'José João Almeida']], 'ano': 2008, 'local': 'Twente - Holanda'}, {'chaveCit': 'RHA1998', 'titulo': 'Utilização do email pedagogicamente', 'autores': [['jcr', 'José Carlos Ramalho'], ['prh', 'Pedro Rangel Henriques'], ['jj', 'José João Almeida']], 'ano': 1999, 'local': 'Universidade do Minho'}]\n"
     ]
    }
   ],
   "source": [
    "# Carregar a BD dum ficheiro em JSON\n",
    "def carregarBD(fnome):\n",
    "    f = open(fnome)\n",
    "    bd = json.load(f)\n",
    "    return bd\n",
    "\n",
    "teste = []\n",
    "teste = carregarBD(\"bdArtigos.json\")\n",
    "print(teste)"
   ]
  },
  {
   "cell_type": "markdown",
   "metadata": {},
   "source": [
    "O campo autores não veio no formato pretendido. Altera a função de carregamento de modo a colocar tudo no formato esperado."
   ]
  }
 ],
 "metadata": {
  "interpreter": {
   "hash": "aee8b7b246df8f9039afb4144a1f6fd8d2ca17a180786b69acc140d282b71a49"
  },
  "kernelspec": {
   "display_name": "Python 3.9.1 64-bit",
   "name": "python3"
  },
  "language_info": {
   "codemirror_mode": {
    "name": "ipython",
    "version": 3
   },
   "file_extension": ".py",
   "mimetype": "text/x-python",
   "name": "python",
   "nbconvert_exporter": "python",
   "pygments_lexer": "ipython3",
   "version": "3.9.1"
  },
  "orig_nbformat": 4
 },
 "nbformat": 4,
 "nbformat_minor": 2
}
