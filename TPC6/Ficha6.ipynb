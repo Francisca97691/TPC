{
 "cells": [
  {
   "cell_type": "markdown",
   "metadata": {},
   "source": [
    "# Ficha de trabalho 6"
   ]
  },
  {
   "cell_type": "markdown",
   "metadata": {},
   "source": [
    "* __Data de início__: 2021-11-16\n",
    "* __Data do fim__: 2021-11-20\n",
    "* __Supervisor__: José Carlos Ramalho, https://www.di.uminho.pt/~jcr/\n",
    "* __Autor__: Francisca Silva, a97691\n",
    "* __Resumo__:\n",
    "Nesta ficha é abordada a representação gráfica da informação, sendo que para dar origem a um gráfico temos de definir a/as funções ou os seus pontos, e de seguida estabelecer os eixos coordenados e os seus intervalos\n",
    "\n",
    "No exercício 1 começou-se por definir e marcar os extremos do gráfico no sentido dos ponteiros do relógio, repetindo-se o primeiro ponto para fechar o quadrado. No exercício 2 , definimos os pontos genéricos, sendo que o valor n poderia ser igual a todos os números inteiros de 1 até 10 usando a estrura de repetição for i in range. No exercício 3, considerou-se que cada polinómio era uma função no intervalo perdido, aproveitando as funções do módulo dado.\n",
    "\n",
    "Por fim, no exercício 4 usou-se o módulo  pandas e os seus métodos associados"
   ]
  },
  {
   "cell_type": "markdown",
   "metadata": {},
   "source": [
    "### Exercí­cio 1: desenha um quadrado centrado na origem com 5 unidades de lado"
   ]
  },
  {
   "cell_type": "code",
   "execution_count": null,
   "metadata": {},
   "outputs": [],
   "source": [
    "import matplotlib.pyplot as plt\n",
    "\n",
    "# x axis values\n",
    "x = [-2.5, 2.5, 2.5, -2.5, -2.5]\n",
    "# corresponding y axis values \n",
    "y = [2.5, 2.5, -2.5, -2.5, 2.5]\n",
    "\n",
    "#plotting the points\n",
    "plt.plot(x, y)\n",
    "\n",
    "#naming the x axis\n",
    "plt.xlabel('x')\n",
    "#naming the y axis\n",
    "plt.ylabel('y')\n",
    "\n",
    "# giving a tittle to my graph\n",
    "plt.title('quadrado')\n",
    "\n",
    "eixoXx = [-5,5]\n",
    "eixoXy = [0,0]\n",
    "plt.plot(eixoXx, eixoXy, label = \"eixo do X\")\n",
    "\n",
    "eixoYx = [0,0] \n",
    "eixoYy = [-5,5]\n",
    "plt.plot(eixoYx, eixoYy, label = \"eixo do X\")"
   ]
  },
  {
   "cell_type": "markdown",
   "metadata": {},
   "source": [
    "### Exercício 2: desenha n quadrados centrados na origem com lados 1..10"
   ]
  },
  {
   "cell_type": "code",
   "execution_count": null,
   "metadata": {},
   "outputs": [],
   "source": [
    "for n in range(1,10):\n",
    "    x = [-n, n, n, -n, -n]\n",
    "    y = [n, n, -n, -n, n]\n",
    "    plt.plot(x, y)\n",
    "    plt.xlabel('x')\n",
    "    plt.ylabel('y')\n",
    "    plt.title('quadrados de lado n')\n",
    "    eixoXx = [-12,12]\n",
    "    eixoXy = [0,0]\n",
    "    plt.plot(eixoXx, eixoXy, label = \"eixo do X\")\n",
    "    eixoYx = [0,0] \n",
    "    eixoYy = [-12,12]\n",
    "    plt.plot(eixoYx, eixoYy, label = \"eixo do X\")"
   ]
  },
  {
   "cell_type": "markdown",
   "metadata": {},
   "source": [
    "### Exercício 3: representa graficamente os seguintes polinómios\n",
    "* 2x - 5\n",
    "* x^2 - 7\n",
    "* x^3 - 2x^2 + 1\n",
    "\n",
    "Para isso:\n",
    "* Descarrega o módulo polinómio, desenvolvido pelo docente;\n",
    "* Cria um programa e define os 3 polinómios;\n",
    "* Cria uma representaÃ§Ã£o grÃ¡fica para: x = x; y = plo(x);\n",
    "* Em que x = [-100, 100] e y = [-200, 200];\n",
    "* Visualiza os resultados e adapta a escala dos eixos para uma melhor visualização de cada polinómio."
   ]
  },
  {
   "cell_type": "code",
   "execution_count": null,
   "metadata": {},
   "outputs": [],
   "source": [
    "import polinomio as pol\n",
    "import matplotlib.pyplot as plt\n",
    "\n",
    "p1 = [(2,1), (5, 0)]\n",
    "\n",
    "for n in range(-100,100):\n",
    "    x = [i for i in range(-100,100)]\n",
    "    y = []\n",
    "    for n in x:\n",
    "        y.append(pol.calcPolinomio(p1, n))\n",
    "plt.plot(x, y)\n",
    "plt.xlabel('x')\n",
    "plt.ylabel('p(x)')\n",
    "plt.title('Polinomio')\n",
    "eixoXx = [-100,100]\n",
    "eixoXy = [0,0]\n",
    "plt.plot(eixoXx, eixoXy, label = \"eixo do X\")\n",
    "eixoYx = [0,0] \n",
    "eixoYy = [-200,200]\n",
    "plt.plot(eixoYx, eixoYy, label = \"eixo do X\")\n",
    "\n"
   ]
  },
  {
   "cell_type": "code",
   "execution_count": null,
   "metadata": {},
   "outputs": [],
   "source": [
    "p2 = [(1,2), (-7,0)]\n",
    "\n",
    "for n in range(-100,100):\n",
    "    x = [i for i in range(-100,100)]\n",
    "    y = []\n",
    "    for n in x:\n",
    "        y.append(pol.calcPolinomio(p2, n))\n",
    "plt.plot(x, y)\n",
    "plt.xlabel('x')\n",
    "plt.ylabel('p(x)')\n",
    "plt.title('Polinomio')\n",
    "eixoXx = [-100,100]\n",
    "eixoXy = [0,0]\n",
    "plt.plot(eixoXx, eixoXy, label = \"eixo do X\")\n",
    "eixoYx = [0,0] \n",
    "eixoYy = [-200,200]\n",
    "plt.plot(eixoYx, eixoYy, label = \"eixo do X\")"
   ]
  },
  {
   "cell_type": "code",
   "execution_count": null,
   "metadata": {},
   "outputs": [],
   "source": [
    "p3 = [(1,3),(-2,2),(1,0)]\n",
    "\n",
    "for n in range(-100,100):\n",
    "    x = [i for i in range(-100,100)]\n",
    "    y = []\n",
    "    for n in x:\n",
    "        y.append(pol.calcPolinomio(p3, n))\n",
    "plt.plot(x, y)\n",
    "plt.xlabel('x')\n",
    "plt.ylabel('p(x)')\n",
    "plt.title('Polinomio')\n",
    "eixoXx = [-100,100]\n",
    "eixoXy = [0,0]\n",
    "plt.plot(eixoXx, eixoXy, label = \"eixo do X\")\n",
    "eixoYx = [0,0] \n",
    "eixoYy = [-200,200]\n",
    "plt.plot(eixoYx, eixoYy, label = \"eixo do X\")"
   ]
  },
  {
   "cell_type": "markdown",
   "metadata": {},
   "source": [
    "### Exercí­cio 4: estatí­sticas de alunos\n",
    "Vamos usar o módulo Pandas para ler o dataset de alunos disponÃível no site da UC.\n",
    "\n",
    "__Instalação:__ `pip install pandas`\n",
    "\n",
    "__A fazer:__ Depois de analisares os exemplos seguintes, constrói um programa que desenha um gráfico de barras com os alunos de cada curso."
   ]
  },
  {
   "cell_type": "code",
   "execution_count": 1,
   "metadata": {},
   "outputs": [],
   "source": [
    "pip install pandas"
   ]
  },
  {
   "cell_type": "code",
   "execution_count": null,
   "metadata": {},
   "outputs": [],
   "source": [
    "import pandas as pd\n",
    "alunos = pd.read_csv(\"alunos.csv\")\n",
    "print(alunos)"
   ]
  },
  {
   "cell_type": "code",
   "execution_count": null,
   "metadata": {},
   "outputs": [],
   "source": [
    "alunos[\"tpc1\"].mean()"
   ]
  },
  {
   "cell_type": "code",
   "execution_count": null,
   "metadata": {},
   "outputs": [],
   "source": [
    "alunos[[\"tpc1\", \"tpc2\", \"tpc3\",\"tpc4\"]].mean()"
   ]
  },
  {
   "cell_type": "code",
   "execution_count": null,
   "metadata": {},
   "outputs": [],
   "source": [
    "alunos[[\"tpc1\", \"tpc2\", \"tpc3\",\"tpc4\"]].describe()"
   ]
  },
  {
   "cell_type": "code",
   "execution_count": null,
   "metadata": {},
   "outputs": [],
   "source": [
    "alunos[[\"curso\", \"tpc1\"]].groupby(\"curso\").mean()"
   ]
  },
  {
   "cell_type": "code",
   "execution_count": null,
   "metadata": {},
   "outputs": [],
   "source": [
    "cont = alunos[\"curso\"].value_counts()\n",
    "print(cont.get('ENGFIS'))"
   ]
  },
  {
   "cell_type": "code",
   "execution_count": null,
   "metadata": {},
   "outputs": [],
   "source": [
    "cursos = alunos[\"curso\"].unique()\n",
    "print(cursos)"
   ]
  },
  {
   "cell_type": "code",
   "execution_count": null,
   "metadata": {},
   "outputs": [],
   "source": [
    "cont = alunos[\"curso\"].value_counts().plot(kind='bar')"
   ]
  }
 ],
 "metadata": {
  "interpreter": {
   "hash": "2cfb9bd4a52527e6ec9f447213b9972c248907453c2b86311d1ef26240ed6274"
  },
  "kernelspec": {
   "display_name": "Python 3.9.0 64-bit",
   "language": "python",
   "name": "python3"
  },
  "language_info": {
   "codemirror_mode": {
    "name": "ipython",
    "version": 3
   },
   "file_extension": ".py",
   "mimetype": "text/x-python",
   "name": "python",
   "nbconvert_exporter": "python",
   "pygments_lexer": "ipython3",
   "version": "3.9.0"
  },
  "orig_nbformat": 4
 },
 "nbformat": 4,
 "nbformat_minor": 2
}
