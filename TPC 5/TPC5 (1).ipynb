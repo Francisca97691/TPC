{
 "cells": [
  {
   "cell_type": "markdown",
   "id": "91a28f19",
   "metadata": {},
   "source": [
    "# TPC 5"
   ]
  },
  {
   "cell_type": "markdown",
   "id": "afd5e006",
   "metadata": {},
   "source": [
    "## Frações"
   ]
  },
  {
   "cell_type": "markdown",
   "id": "40c4190d",
   "metadata": {},
   "source": [
    "### Data de início: 2021-10-27"
   ]
  },
  {
   "cell_type": "markdown",
   "id": "ac5e4048",
   "metadata": {},
   "source": [
    "### Data do fim: 2021-11-03"
   ]
  },
  {
   "cell_type": "markdown",
   "id": "b5542f9f",
   "metadata": {},
   "source": [
    "### Supervisor: José Carlos Ramalho, https://www.di.uminho.pt/~jcr/"
   ]
  },
  {
   "cell_type": "markdown",
   "id": "d6989dbb",
   "metadata": {},
   "source": [
    "### Autor: Francisca Silva, a97691"
   ]
  },
  {
   "cell_type": "markdown",
   "id": "307f3f5f",
   "metadata": {},
   "source": [
    "### Resumo: Primeiramente, criou-se um menu, com as possíveis funções.Passando para as funções, em algumas optou-se por inserir as frações numa lista de tuplos, na forma [(numerador, denominador)]. Das funções definidas as fundamentais foram chamadas noutras de modo a facilitar as operações e simplificar o algoritmo. Por fim, foi criada uma função que consoante a opção do utilizador o leva à execução da operação desejada."
   ]
  },
  {
   "cell_type": "code",
   "execution_count": null,
   "id": "6107f39c",
   "metadata": {},
   "outputs": [],
   "source": [
    "print(\"\"\"MENU:\n",
    "         (0) Sair\n",
    "         (1) Criar fração\n",
    "         (2) Simplificar fração\n",
    "         (3) Somar\n",
    "         (4) Subtrair\n",
    "         (5) Multiplicar\n",
    "         (6) Dividir\n",
    "         (7) Gerar lista de n frações\n",
    "         (8) Somar lista\n",
    "         (9) Maior fração\"\"\")\n",
    "\n",
    "def sair():\n",
    "    print(\"That's all folks :)))\")\n",
    "    \n",
    "    \n",
    "def criarFracao():\n",
    "    numerador = int(input(\"Insira o numerador: \"))\n",
    "    denominador = int(input(\"Insira o denominador: \"))\n",
    "    return (numerador, denominador)\n",
    "\n",
    "def verFracao(f):\n",
    "    print(str(f[0])+\"/\"+str(f[1]))\n",
    "    \n",
    "def mdc(a,b):\n",
    "    if a < b:\n",
    "        return mdc(b, a)\n",
    "    elif a%b == 0:\n",
    "        return b\n",
    "    else: \n",
    "        return mdc(a, a%b)\n",
    "\n",
    "def simplificarFracao(f):\n",
    "    num, denom = f\n",
    "    a = mdc(num, denom)\n",
    "    return (num/a, denom/a)    \n",
    "\n",
    "def somarFracao():\n",
    "    f1 = criarFracao()\n",
    "    f2 = criarFracao()\n",
    "    n1, d1 = f1\n",
    "    n2, d2 = f2\n",
    "    return n1*d2 + n2*d1, d1*d2\n",
    "\n",
    "def subtrairFracao():\n",
    "    f1 = criarFracao()\n",
    "    f2 = criarFracao()\n",
    "    n1, d1 = f1\n",
    "    n2, d2 = f2\n",
    "    return n1*d2 - n2*d1, d1*d2\n",
    "\n",
    "def multiplicarFracao():\n",
    "    f1 = criarFracao()\n",
    "    f2 = criarFracao()\n",
    "    n1, d1 = f1\n",
    "    n2, d2 = f2\n",
    "    return n1*n2, d1*d2\n",
    "\n",
    "def dividirFracao():\n",
    "    f1 = criarFracao()\n",
    "    f2 = criarFracao()\n",
    "    n1, d1 = f1\n",
    "    n2, d2 = f2\n",
    "    return n1*d2, d1*n2\n",
    "\n",
    "def gerarLista():\n",
    "    lista = []\n",
    "    listaDecimal = []\n",
    "    n = int(input(\"Insira o comprimento da lista: \"))\n",
    "    i = 0\n",
    "    while i < n:\n",
    "        num = int(input(\"Insira o numerador: \"))\n",
    "        den = int(input(\"Insira o denominador: \"))\n",
    "        tuplo = (num, den)\n",
    "        lista.append(tuplo)\n",
    "        listaDecimal.append(num/den)\n",
    "        i += 1\n",
    "    return lista\n",
    "    \n",
    "L = gerarLista()\n",
    "\n",
    "def somarLista(L):\n",
    "    res = (0,1)\n",
    "    for elem in L:\n",
    "        f1 = res\n",
    "        f2 = elem\n",
    "        n1, d1 = f1\n",
    "        n2, d2 = f2\n",
    "        res = n1*d2 + n2*d1, d1*d2\n",
    "    return res\n",
    "\n",
    "def maiorLista(L):\n",
    "    maior=-1000000000000000000000000\n",
    "    listaDecimal=[]\n",
    "    i=-1\n",
    "    for elem in L:\n",
    "        elem=elem[0]/elem[1]\n",
    "        listaDecimal.append(elem)\n",
    "    for elem in listaDecimal:\n",
    "        if elem>maior:\n",
    "            maior=elem\n",
    "            i+=1\n",
    "    print(\"A maior fração é\", L[i])\n",
    "    return maior\n",
    "L1 = maiorLista(L)\n",
    "\n",
    "def opcao():\n",
    "    op = str(input(\"Insira um dos comandos do menu: \"))\n",
    "    while op != '0':\n",
    "        if op == '1':\n",
    "            f = criarFracao()\n",
    "        elif op == '2':\n",
    "            print(verFracao(simplificarFracao(f)))\n",
    "        elif op == '3':\n",
    "            f = somarFracao()\n",
    "            print(verFracao(simplificarFracao(f)))\n",
    "        elif op == '4':\n",
    "            f = subtrairFracao()\n",
    "            print(verFracao(simplificarFracao(f)))\n",
    "        elif op == '5':\n",
    "            f = multiplicarFracao()\n",
    "            print(verFracao(simplificarFracao(f)))\n",
    "        elif op == '6':\n",
    "            f = dividirFracao()\n",
    "            print(verFracao(simplificarFracao(f)))\n",
    "        elif op == '7':\n",
    "            gerarLista()\n",
    "        elif op == '8':\n",
    "            f = somarLista(L)\n",
    "            print(verFracao(simplificarFracao(f)))\n",
    "        elif op == '9':\n",
    "            f = maiorLista(L)\n",
    "            print(f)\n",
    "        else:\n",
    "            print(\"Este número não está nas alternativas, tente novamente :D.\\n\")\n",
    "        op = str(input(\"Insira um dos comandos do menu: \"))\n",
    "    if op == '0':\n",
    "        sair()\n",
    "opcao()"
   ]
  },
  {
   "cell_type": "code",
   "execution_count": null,
   "id": "8f3f7f47",
   "metadata": {},
   "outputs": [],
   "source": []
  },
  {
   "cell_type": "code",
   "execution_count": null,
   "id": "9377a62e",
   "metadata": {},
   "outputs": [],
   "source": []
  }
 ],
 "metadata": {
  "kernelspec": {
   "display_name": "Python 3",
   "language": "python",
   "name": "python3"
  },
  "language_info": {
   "codemirror_mode": {
    "name": "ipython",
    "version": 3
   },
   "file_extension": ".py",
   "mimetype": "text/x-python",
   "name": "python",
   "nbconvert_exporter": "python",
   "pygments_lexer": "ipython3",
   "version": "3.8.8"
  }
 },
 "nbformat": 4,
 "nbformat_minor": 5
}
